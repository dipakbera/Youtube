{
 "cells": [
  {
   "cell_type": "markdown",
   "metadata": {},
   "source": [
    "# Introduction"
   ]
  },
  {
   "cell_type": "markdown",
   "metadata": {},
   "source": [
    "### what is python???"
   ]
  },
  {
   "cell_type": "markdown",
   "metadata": {},
   "source": [
    "Python is an object-oriented,interpreted,high-level programming language that supports dynamic semantics. Python's simple, easy to learn syntax increases reliability and therefore it reduces the cost of program maintenance. Python supports modules and packages, which encourages program modularity and code reuse."
   ]
  },
  {
   "cell_type": "code",
   "execution_count": 2,
   "metadata": {},
   "outputs": [],
   "source": [
    "#overall we can say that python is easy to learn and easy to handle."
   ]
  },
  {
   "cell_type": "code",
   "execution_count": 4,
   "metadata": {},
   "outputs": [],
   "source": [
    "#In this course, we will learn python quickly.I will give you concepts in an easy and memorable way."
   ]
  },
  {
   "cell_type": "markdown",
   "metadata": {},
   "source": [
    "# Installation"
   ]
  },
  {
   "cell_type": "markdown",
   "metadata": {},
   "source": [
    "I will suggest you to download python 3 one version earlier here.(As that will be more stable)\n",
    "\n",
    "[Download Python](https://www.python.org/downloads/)\n",
    "\n",
    "In download dropdown menu,select your os such as windows or mac or linux etc and choose the correct one as per os and processor."
   ]
  },
  {
   "cell_type": "markdown",
   "metadata": {},
   "source": [
    "But I personally prefer installing python through Anaconda distribution.\n",
    "### Why Anaconda?\n",
    "* Able to install/update packages completely independent of system libraries or admin privileges\n",
    "* conda tool installs binary packages, rather than requiring compile resources like pip - again, handy if you have limited privileges for installing necessary libraries.\n",
    "* More or less eliminates the headaches for version issues of different libraries.\n",
    "* Libraries like numpy, scipy, PyQt, spyder IDE,VS Code IDE etc. or in minimal / alacarte version (miniconda) where you can install what you want, when you need it\n",
    "* Afterall our jupyter notebook will be installed also.\n",
    "\n",
    "windows: [Download the Anaconda installer](https://www.continuum.io/downloads).\n",
    "\n",
    "\n",
    "mac: [graphical macOS installer](https://www.continuum.io/downloads#macos) for your version of Python."
   ]
  },
  {
   "cell_type": "markdown",
   "metadata": {},
   "source": [
    "To install Jupyter notebooks in a conda environment, use __conda install jupyter notebook__.(usually not required for anaconda distribution).\n",
    "\n",
    "You have to download jupyter notebook separately if you do not want conda distribution.\n",
    "\n",
    "Follow this command in your command prompt  __pip install jupyter notebook__ in the same address where python is installed."
   ]
  },
  {
   "cell_type": "markdown",
   "metadata": {},
   "source": [
    "### Why Jupyter Notebook ?"
   ]
  },
  {
   "cell_type": "markdown",
   "metadata": {},
   "source": [
    "Jupyter Notebook is a world famous IDE for running code through interactive shell by shell.We can make our contents more attractive.By which I am interacting with you also."
   ]
  },
  {
   "cell_type": "markdown",
   "metadata": {},
   "source": [
    "### Next class: Handling basic inputs and outputs through different IDE and command prompts."
   ]
  },
  {
   "cell_type": "code",
   "execution_count": 3,
   "metadata": {},
   "outputs": [
    {
     "name": "stdout",
     "output_type": "stream",
     "text": [
      "welcome\n"
     ]
    }
   ],
   "source": [
    "print('welcome')"
   ]
  },
  {
   "cell_type": "code",
   "execution_count": null,
   "metadata": {},
   "outputs": [],
   "source": []
  }
 ],
 "metadata": {
  "kernelspec": {
   "display_name": "Python 3",
   "language": "python",
   "name": "python3"
  },
  "language_info": {
   "codemirror_mode": {
    "name": "ipython",
    "version": 3
   },
   "file_extension": ".py",
   "mimetype": "text/x-python",
   "name": "python",
   "nbconvert_exporter": "python",
   "pygments_lexer": "ipython3",
   "version": "3.7.6"
  }
 },
 "nbformat": 4,
 "nbformat_minor": 4
}
