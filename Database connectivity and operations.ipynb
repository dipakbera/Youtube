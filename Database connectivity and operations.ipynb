{
 "cells": [
  {
   "cell_type": "markdown",
   "metadata": {},
   "source": [
    "**What is Database?**\n",
    "\n",
    "Database is a collection of information that is maintained in a proper way so that it can be easily accessed, managed and updated.It contains data records or files.There are so many databases like SQL, MySQL, NoSQL,etc.Here we will discuss about Python in-built database SQLite."
   ]
  },
  {
   "cell_type": "code",
   "execution_count": 1,
   "metadata": {},
   "outputs": [
    {
     "data": {
      "text/plain": [
       "'C:\\\\Users\\\\ANKDIP\\\\YoutubeCoding\\\\Python'"
      ]
     },
     "execution_count": 1,
     "metadata": {},
     "output_type": "execute_result"
    }
   ],
   "source": [
    "pwd()"
   ]
  },
  {
   "cell_type": "code",
   "execution_count": 2,
   "metadata": {},
   "outputs": [],
   "source": [
    "#importing the database\n",
    "import sqlite3"
   ]
  },
  {
   "cell_type": "code",
   "execution_count": 7,
   "metadata": {},
   "outputs": [],
   "source": [
    "#connecting with the database.\n",
    "db = sqlite3.connect(\"my_database.db\")  #db database will be created if it does not exist."
   ]
  },
  {
   "cell_type": "code",
   "execution_count": 4,
   "metadata": {},
   "outputs": [
    {
     "data": {
      "text/plain": [
       "<sqlite3.Connection at 0x1d3a34321f0>"
      ]
     },
     "execution_count": 4,
     "metadata": {},
     "output_type": "execute_result"
    }
   ],
   "source": [
    "db"
   ]
  },
  {
   "cell_type": "code",
   "execution_count": 5,
   "metadata": {},
   "outputs": [],
   "source": [
    "db.close()"
   ]
  },
  {
   "cell_type": "markdown",
   "metadata": {},
   "source": [
    "##### We can interact with databases through SQLs or Structured Query Languages"
   ]
  },
  {
   "cell_type": "code",
   "execution_count": 8,
   "metadata": {},
   "outputs": [
    {
     "data": {
      "text/plain": [
       "<sqlite3.Cursor at 0x1d3a34daf80>"
      ]
     },
     "execution_count": 8,
     "metadata": {},
     "output_type": "execute_result"
    }
   ],
   "source": [
    "#drop table citizen if exists in the available database\n",
    "db.execute(\"drop table if exists citizen\")"
   ]
  },
  {
   "cell_type": "code",
   "execution_count": 9,
   "metadata": {},
   "outputs": [
    {
     "data": {
      "text/plain": [
       "<sqlite3.Cursor at 0x1d3a34e41f0>"
      ]
     },
     "execution_count": 9,
     "metadata": {},
     "output_type": "execute_result"
    }
   ],
   "source": [
    "#creating table citizen \n",
    "db.execute(\"create table citizen(id int, name text, age int,occupation text)\")"
   ]
  },
  {
   "cell_type": "code",
   "execution_count": 10,
   "metadata": {},
   "outputs": [
    {
     "data": {
      "text/plain": [
       "<sqlite3.Cursor at 0x1d3a34e4490>"
      ]
     },
     "execution_count": 10,
     "metadata": {},
     "output_type": "execute_result"
    }
   ],
   "source": [
    "#inserting values inside the created table citizen\n",
    "db.execute(\"insert into citizen(id, name, age,occupation) values(1000, 'Lucky',35,'Software Engineer')\")\n",
    "db.execute(\"insert into citizen(id, name, age,occupation) values(1001, 'Alam',25,'Software Developer')\")\n",
    "db.execute(\"insert into citizen(id, name, age,occupation) values(1002, 'Siraj',45,'Youtuber')\")\n",
    "db.execute(\"insert into citizen(id, name, age,occupation) values(1003, 'Ankhi',18,'Student')\")"
   ]
  },
  {
   "cell_type": "code",
   "execution_count": 11,
   "metadata": {},
   "outputs": [],
   "source": [
    "db.commit()"
   ]
  },
  {
   "cell_type": "code",
   "execution_count": 12,
   "metadata": {},
   "outputs": [
    {
     "name": "stdout",
     "output_type": "stream",
     "text": [
      "**************************************************\n",
      "(1000, 'Lucky', 35, 'Software Engineer')\n",
      "(1001, 'Alam', 25, 'Software Developer')\n",
      "(1002, 'Siraj', 45, 'Youtuber')\n",
      "(1003, 'Ankhi', 18, 'Student')\n",
      "**************************************************\n"
     ]
    }
   ],
   "source": [
    "print(\"*\" * 50 )\n",
    "results = db.execute(\"select * from citizen order by id\")\n",
    "for row in results:\n",
    "    print(row)\n",
    "print(\"*\" * 50 )"
   ]
  },
  {
   "cell_type": "code",
   "execution_count": 13,
   "metadata": {},
   "outputs": [
    {
     "data": {
      "text/plain": [
       "<sqlite3.Cursor at 0x1d3a34e4340>"
      ]
     },
     "execution_count": 13,
     "metadata": {},
     "output_type": "execute_result"
    }
   ],
   "source": [
    "results"
   ]
  },
  {
   "cell_type": "code",
   "execution_count": 14,
   "metadata": {},
   "outputs": [
    {
     "name": "stdout",
     "output_type": "stream",
     "text": [
      "^^^^^^^^^^^^^^^^^^^^^^^^^^^^^^\n",
      "('Ankhi', 18)\n",
      "('Alam', 25)\n",
      "('Lucky', 35)\n",
      "('Siraj', 45)\n",
      "vvvvvvvvvvvvvvvvvvvvvvvvvvvvvv\n"
     ]
    }
   ],
   "source": [
    "print(\"^\" * 30 )\n",
    "results = db.execute(\"select name, age from citizen order by age\")\n",
    "for row in results:\n",
    "    print(row)\n",
    "print(\"v\" * 30 )"
   ]
  },
  {
   "cell_type": "code",
   "execution_count": 15,
   "metadata": {},
   "outputs": [
    {
     "name": "stdout",
     "output_type": "stream",
     "text": [
      "++++++++++++++++++++++++++++++\n",
      "('Alam', 25)\n",
      "('Ankhi', 18)\n",
      "('Lucky', 35)\n",
      "('Siraj', 45)\n",
      "++++++++++++++++++++++++++++++\n"
     ]
    }
   ],
   "source": [
    "print(\"+\" * 30 )\n",
    "results = db.execute(\"select name, age from citizen order by name\")\n",
    "for row in results:\n",
    "    print(row)\n",
    "print(\"+\" * 30 )"
   ]
  },
  {
   "cell_type": "code",
   "execution_count": 16,
   "metadata": {},
   "outputs": [
    {
     "name": "stdout",
     "output_type": "stream",
     "text": [
      "---------------------------------------------\n",
      "(1000, 'Lucky', 35, 'Software Engineer')\n",
      "(1002, 'Siraj', 45, 'Youtuber')\n",
      "---------------------------------------------\n"
     ]
    }
   ],
   "source": [
    "print(\"-\" * 45 )\n",
    "results = db.execute(\"select * from citizen where age >= 35 \")\n",
    "for row in results:\n",
    "    print(row)\n",
    "print(\"-\" * 45 )"
   ]
  },
  {
   "cell_type": "code",
   "execution_count": 17,
   "metadata": {},
   "outputs": [
    {
     "name": "stdout",
     "output_type": "stream",
     "text": [
      "###################################\n",
      "('Lucky', 'Software Engineer')\n",
      "('Alam', 'Software Developer')\n",
      "('Siraj', 'Youtuber')\n",
      "('Ankhi', 'Student')\n",
      "###################################\n"
     ]
    }
   ],
   "source": [
    "print(\"#\" * 35 )\n",
    "results = db.execute(\"select name,occupation from citizen\")\n",
    "for row in results:\n",
    "    print(row)\n",
    "print(\"#\" * 35 )"
   ]
  },
  {
   "cell_type": "markdown",
   "metadata": {},
   "source": [
    "#### There are so many SQLs to interact with the database server."
   ]
  },
  {
   "cell_type": "code",
   "execution_count": null,
   "metadata": {},
   "outputs": [],
   "source": [
    "#Task: Suppose we want to make a list of names in the citizen table available in created 'db' database in sqlite server."
   ]
  },
  {
   "cell_type": "code",
   "execution_count": 18,
   "metadata": {},
   "outputs": [
    {
     "data": {
      "text/plain": [
       "['Lucky', 'Alam', 'Siraj', 'Ankhi']"
      ]
     },
     "execution_count": 18,
     "metadata": {},
     "output_type": "execute_result"
    }
   ],
   "source": [
    "results=db.execute(\"select name from citizen\")\n",
    "listt=[row[0] for row in results]\n",
    "listt"
   ]
  },
  {
   "cell_type": "code",
   "execution_count": 19,
   "metadata": {},
   "outputs": [],
   "source": [
    "#closing the connection to the database\n",
    "db.close()"
   ]
  },
  {
   "cell_type": "markdown",
   "metadata": {},
   "source": [
    "## Next: Object Oriented Programming(Class concepts)"
   ]
  }
 ],
 "metadata": {
  "kernelspec": {
   "display_name": "Python 3",
   "language": "python",
   "name": "python3"
  },
  "language_info": {
   "codemirror_mode": {
    "name": "ipython",
    "version": 3
   },
   "file_extension": ".py",
   "mimetype": "text/x-python",
   "name": "python",
   "nbconvert_exporter": "python",
   "pygments_lexer": "ipython3",
   "version": "3.7.6"
  }
 },
 "nbformat": 4,
 "nbformat_minor": 4
}
